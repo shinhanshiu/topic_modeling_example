{
 "cells": [
  {
   "attachments": {},
   "cell_type": "markdown",
   "metadata": {},
   "source": [
    "# __Arabodopsis-related topic over time__\n",
    "\n",
    "Goals here:\n",
    "- Model topics for docs mentioning Arabidopsis\n",
    "- Model Arabidopsis topics over time\n",
    "\n",
    "Issues:\n",
    "- 9/5/23:\n",
    "  - Pass the code to Edmond to adopt it for all pubmed articles.\n",
    "- 2/8/23:\n",
    "  - Rerun to make sure the time bins are divided up based on an equal number of records.\n",
    "- 10/4/22: \n",
    "  - Run BERTopic and get `RuntimeError: CUDA error: no kernel image is available for execution on the device`.\n",
    "    - Reinstall torch following advices from [here](https://github.com/NVlabs/stylegan2-ada-pytorch/issues/6) for example\n",
    "    - `conda install pytorch torchvision torchaudio cudatoolkit=11.6 -c pytorch -c conda-forge`\n",
    "  - Once updating torch, run into problem that numba requires numpy <=1.21\n",
    "    - `conda install numpy=1.21`\n",
    "  - Get `AttributeError: 'BERTopic' object has no attribute 'generate_topic_labels'`\n",
    "    - Update BERTopic: `pip install --upgrade bertopic`\n",
    "  - Get `ImportError: cannot import name 'DatasetInfo' from 'huggingface_hub.hf_api'`\n",
    "    - Update huggingface_hub\n",
    "  - Because BERTopic is updated, the c-tf-idf matrix name is changed. This is not changed for earlier codes."
   ]
  },
  {
   "cell_type": "markdown",
   "metadata": {},
   "source": [
    "## ___Set up___"
   ]
  },
  {
   "cell_type": "markdown",
   "metadata": {},
   "source": [
    "### Environment\n",
    "\n",
    "```bash\n",
    "conda create -n topic_model python\n",
    "conda activate topic_model\n",
    "pip install bertopic\n",
    "pip install seaborn statsmodels xlsxwriter kaleido session-info\n",
    "\n",
    "```"
   ]
  },
  {
   "cell_type": "markdown",
   "metadata": {},
   "source": [
    "### Module import\n",
    "\n",
    "In bertopic environment"
   ]
  },
  {
   "cell_type": "code",
   "execution_count": 54,
   "metadata": {},
   "outputs": [],
   "source": [
    "import re, pickle, os, torch, csv\n",
    "import numpy as np\n",
    "import pandas as pd\n",
    "import matplotlib as mpl\n",
    "import matplotlib.pyplot as plt\n",
    "import statsmodels.api as sm\n",
    "import plotly.graph_objects as go\n",
    "\n",
    "from pathlib import Path\n",
    "from tqdm import tqdm\n",
    "from nltk.corpus import stopwords\n",
    "from nltk.tokenize import word_tokenize\n",
    "from bertopic import BERTopic\n",
    "from sentence_transformers import SentenceTransformer\n",
    "from hdbscan import HDBSCAN\n",
    "from xlsxwriter.workbook import Workbook\n",
    "from datetime import datetime\n",
    "from bisect import bisect\n",
    "from sklearn.preprocessing import normalize\n",
    "from sklearn.metrics import mean_squared_error\n",
    "from sklearn.preprocessing import minmax_scale\n",
    "from scipy.interpolate import interp1d\n",
    "from shutil import copy\n",
    "from dateutil.relativedelta import relativedelta"
   ]
  },
  {
   "cell_type": "code",
   "execution_count": 3,
   "metadata": {},
   "outputs": [
    {
     "data": {
      "text/plain": [
       "(True, '2.0.1+cu117')"
      ]
     },
     "execution_count": 3,
     "metadata": {},
     "output_type": "execute_result"
    }
   ],
   "source": [
    "torch.cuda.is_available(), torch.__version__"
   ]
  },
  {
   "cell_type": "markdown",
   "metadata": {},
   "source": [
    "### Session info\n",
    "\n"
   ]
  },
  {
   "cell_type": "code",
   "execution_count": 68,
   "metadata": {},
   "outputs": [
    {
     "data": {
      "text/html": [
       "<details>\n",
       "<summary>Click to view session information</summary>\n",
       "<pre>\n",
       "-----\n",
       "bertopic                    0.15.0\n",
       "dateutil                    2.8.2\n",
       "hdbscan                     NA\n",
       "matplotlib                  3.7.3\n",
       "nltk                        3.8.1\n",
       "numpy                       1.24.4\n",
       "pandas                      2.1.0\n",
       "plotly                      5.16.1\n",
       "scipy                       1.11.2\n",
       "sentence_transformers       2.2.2\n",
       "session_info                1.0.0\n",
       "sklearn                     1.3.0\n",
       "statsmodels                 0.14.0\n",
       "torch                       2.0.1+cu117\n",
       "tqdm                        4.66.1\n",
       "xlsxwriter                  3.1.3\n",
       "-----\n",
       "</pre>\n",
       "<details>\n",
       "<summary>Click to view modules imported as dependencies</summary>\n",
       "<pre>\n",
       "PIL                 10.0.0\n",
       "asttokens           NA\n",
       "backcall            0.2.0\n",
       "certifi             2023.07.22\n",
       "charset_normalizer  3.2.0\n",
       "comm                0.1.4\n",
       "cycler              0.10.0\n",
       "cython_runtime      NA\n",
       "debugpy             1.6.7\n",
       "decorator           5.1.1\n",
       "executing           1.2.0\n",
       "filelock            3.12.3\n",
       "fontTools           4.42.1\n",
       "huggingface_hub     0.17.1\n",
       "idna                3.4\n",
       "ipykernel           6.25.2\n",
       "jedi                0.19.0\n",
       "jinja2              3.1.2\n",
       "joblib              1.3.2\n",
       "kiwisolver          1.4.5\n",
       "llvmlite            0.40.1\n",
       "markupsafe          2.1.3\n",
       "matplotlib_inline   0.1.6\n",
       "mpl_toolkits        NA\n",
       "mpmath              1.3.0\n",
       "numba               0.57.1\n",
       "nvfuser             NA\n",
       "packaging           23.1\n",
       "parso               0.8.3\n",
       "patsy               0.5.3\n",
       "pexpect             4.8.0\n",
       "pickleshare         0.7.5\n",
       "pkg_resources       NA\n",
       "platformdirs        3.10.0\n",
       "prompt_toolkit      3.0.39\n",
       "psutil              5.9.0\n",
       "ptyprocess          0.7.0\n",
       "pure_eval           0.2.2\n",
       "pydev_ipython       NA\n",
       "pydevconsole        NA\n",
       "pydevd              2.9.5\n",
       "pydevd_file_utils   NA\n",
       "pydevd_plugins      NA\n",
       "pydevd_tracing      NA\n",
       "pygments            2.16.1\n",
       "pynndescent         0.5.10\n",
       "pyparsing           3.1.1\n",
       "pytz                2023.3.post1\n",
       "regex               2.5.132\n",
       "requests            2.31.0\n",
       "safetensors         0.3.3\n",
       "sentencepiece       0.1.99\n",
       "setuptools          68.0.0\n",
       "six                 1.16.0\n",
       "stack_data          0.6.2\n",
       "swig_runtime_data4  NA\n",
       "sympy               1.12\n",
       "threadpoolctl       3.2.0\n",
       "tokenizers          0.13.3\n",
       "tornado             6.3.2\n",
       "traitlets           5.9.0\n",
       "transformers        4.33.1\n",
       "typing_extensions   NA\n",
       "umap                0.5.3\n",
       "urllib3             2.0.4\n",
       "wcwidth             0.2.6\n",
       "yaml                6.0.1\n",
       "zmq                 25.1.0\n",
       "</pre>\n",
       "</details> <!-- seems like this ends pre, so might as well be explicit -->\n",
       "<pre>\n",
       "-----\n",
       "IPython             8.15.0\n",
       "jupyter_client      8.3.1\n",
       "jupyter_core        5.3.1\n",
       "-----\n",
       "Python 3.11.5 (main, Sep 11 2023, 13:54:46) [GCC 11.2.0]\n",
       "Linux-5.15.90.1-microsoft-standard-WSL2-x86_64-with-glibc2.31\n",
       "-----\n",
       "Session information updated at 2023-09-12 12:58\n",
       "</pre>\n",
       "</details>"
      ],
      "text/plain": [
       "<IPython.core.display.HTML object>"
      ]
     },
     "execution_count": 68,
     "metadata": {},
     "output_type": "execute_result"
    }
   ],
   "source": [
    "# Below is the package info. Do not run this again\n",
    "import session_info\n",
    "session_info.show()"
   ]
  },
  {
   "cell_type": "code",
   "execution_count": null,
   "metadata": {},
   "outputs": [],
   "source": []
  },
  {
   "cell_type": "markdown",
   "metadata": {},
   "source": [
    "### Key variables"
   ]
  },
  {
   "cell_type": "code",
   "execution_count": 4,
   "metadata": {},
   "outputs": [],
   "source": [
    "# Reproducibility\n",
    "seed = 20220609\n",
    "\n",
    "# Setting working directory\n",
    "work_dir   = Path.home() / (\"projects/topic_model_example\")\n",
    "\n",
    "# plant science corpus with date and other info\n",
    "corpus_file = work_dir / \"corpus_plant_421658.tsv.gz\"\n",
    "\n",
    "# Species match data\n",
    "viridi_offspr_file = work_dir / \"viridiplantae_offspring_names.pickle\" \n",
    "match_csr_file     = work_dir / \"match_csr.pickle\"\n",
    "\n",
    "# BERT model to use\n",
    "model_name     = \"allenai/scibert_scivocab_uncased\"\n",
    "model_name_mod = \"-\".join(model_name.split(\"/\"))\n",
    "\n",
    "# the target term\n",
    "target = \"Arabidopsis\"\n",
    "\n",
    "## outputs for topic modeling\n",
    "# path for the corpus for the target (i.e., Arabidopsis)\n",
    "corpus_target_file = work_dir / \"corpus_arabidopsis.tsv.gz\"\n",
    "\n",
    "# generated during bertopic run\n",
    "docs_clean_file  = work_dir / f\"output/docs_clean_{target}.pickle\"\n",
    "emb_file         = work_dir / f\"output/embeddings_{target}_scibert.pickle\"\n",
    "topic_model_file = work_dir / f\"output/topic_model_{target}_{model_name_mod}\"\n",
    "topics_file      = work_dir / f\"output/topics_{target}_{model_name_mod}.pickle\"\n",
    "probs_file       = work_dir / f'output/probs_{target}_{model_name_mod}.pickle'\n",
    "topic_model_updated_file = work_dir / \\\n",
    "                              f\"output/topic_model_update_{target}_{model_name_mod}\"\n",
    "\n",
    "## outputs for topic model analysis\n",
    "top_50_terms_file = work_dir / f'output/top_50_terms_per_topic_{target}.pickle'\n",
    "top_50_terms_xlsx = work_dir / f'output/top_50_terms_per_topic_{target}.xlsx'\n",
    "topic_label_file  = work_dir / f\"output/topic_labels_{target}.txt\"\n",
    "rep_docs_file     = work_dir / f\"output/topic_rep_docs_{target}.tsv\"\n",
    "\n",
    "# Put the top 50 term info into different tsv files in the top_50 folder\n",
    "top_50_dir = work_dir / \"output/top_50\"\n",
    "top_50_dir.mkdir(parents=True, exist_ok=True)\n",
    "\n",
    "## output for topic over time analysis\n",
    "# Creat a folder to store c-tf-idf matrix for each timestamp bin\n",
    "ctfidf_dir = work_dir / \"output/ctfidf_over_time\"\n",
    "ctfidf_dir.mkdir(parents=True, exist_ok=True)\n",
    "\n",
    "# Create a folder to store topic over time graph for each topic\n",
    "tot_graph_dir = work_dir / 'output/tot_graphs'\n",
    "tot_graph_dir.mkdir(parents=True, exist_ok=True)\n",
    "\n",
    "# output for lowess fit\n",
    "dir_lowess = work_dir / \"output/_lowess\"\n",
    "dir_lowess.mkdir(parents=True, exist_ok=True)\n",
    "\n",
    "# for selected files\n",
    "dir_lowess_sel = dir_lowess / \"_selected\"\n",
    "dir_lowess_sel.mkdir(parents=True, exist_ok=True)\n",
    "\n",
    "# So PDF is saved properly\n",
    "mpl.rcParams['pdf.fonttype'] = 42\n",
    "plt.rcParams[\"font.family\"] = \"sans-serif\""
   ]
  },
  {
   "cell_type": "markdown",
   "metadata": {},
   "source": [
    "## ___Get all Arabidopsis records___"
   ]
  },
  {
   "cell_type": "markdown",
   "metadata": {},
   "source": [
    "### Get match_csr column that is for Arabidopsis"
   ]
  },
  {
   "cell_type": "code",
   "execution_count": 5,
   "metadata": {},
   "outputs": [],
   "source": [
    "# load the saved csr\n",
    "with open(match_csr_file, \"rb\") as f:\n",
    "  match_csr = pickle.load(f)\n",
    "\n",
    "# load viridiplantae offspring names that is the same order as match_csr\n",
    "with open(viridi_offspr_file, \"rb\") as f:\n",
    "  viridi_offspr_names = pickle.load(f)"
   ]
  },
  {
   "cell_type": "code",
   "execution_count": 6,
   "metadata": {},
   "outputs": [
    {
     "data": {
      "text/plain": [
       "((421658, 26782), 26782)"
      ]
     },
     "execution_count": 6,
     "metadata": {},
     "output_type": "execute_result"
    }
   ],
   "source": [
    "# Check dimension\n",
    "match_csr.shape, len(viridi_offspr_names)"
   ]
  },
  {
   "cell_type": "code",
   "execution_count": 7,
   "metadata": {},
   "outputs": [
    {
     "data": {
      "text/plain": [
       "22612"
      ]
     },
     "execution_count": 7,
     "metadata": {},
     "output_type": "execute_result"
    }
   ],
   "source": [
    "target_idx = viridi_offspr_names.index(target)\n",
    "target_idx"
   ]
  },
  {
   "cell_type": "code",
   "execution_count": 8,
   "metadata": {},
   "outputs": [
    {
     "data": {
      "text/plain": [
       "(numpy.ndarray, 421658, 50346)"
      ]
     },
     "execution_count": 8,
     "metadata": {},
     "output_type": "execute_result"
    }
   ],
   "source": [
    "# Get indicues of non-zero elements\n",
    "#https://numpy.org/doc/stable/reference/generated/numpy.nonzero.html\n",
    "target_match_arr = match_csr[:,target_idx].toarray().ravel()\n",
    "target_match_idx = np.nonzero(target_match_arr)[0]\n",
    "\n",
    "# Check datatype, shape, and total (ok)\n",
    "type(target_match_arr), len(target_match_arr), np.sum(target_match_arr)"
   ]
  },
  {
   "cell_type": "code",
   "execution_count": 9,
   "metadata": {},
   "outputs": [
    {
     "data": {
      "text/plain": [
       "(50346, array([ 994, 1725, 2524, 3022, 3032]))"
      ]
     },
     "execution_count": 9,
     "metadata": {},
     "output_type": "execute_result"
    }
   ],
   "source": [
    "len(target_match_idx), target_match_idx[:5]"
   ]
  },
  {
   "cell_type": "markdown",
   "metadata": {},
   "source": [
    "### Get the corpus dataframe for records mentioning Arabidopsis"
   ]
  },
  {
   "cell_type": "code",
   "execution_count": 10,
   "metadata": {},
   "outputs": [],
   "source": [
    "# Read corpus file\n",
    "corpus_all = pd.read_csv(corpus_file, compression='gzip', sep='\\t')"
   ]
  },
  {
   "cell_type": "code",
   "execution_count": 11,
   "metadata": {},
   "outputs": [
    {
     "name": "stdout",
     "output_type": "stream",
     "text": [
      "1000\n"
     ]
    }
   ],
   "source": [
    "# Make sure the corpus contain Arabidopsis, test the 1st 1000\n",
    "#https://www.statology.org/pandas-select-rows-by-index/\n",
    "test1000     = corpus_all.loc[target_match_idx[:1000]]['txt']\n",
    "count_found = 0\n",
    "for txt in test1000:\n",
    "  if \"Arabidopsis\" in txt:\n",
    "    count_found += 1\n",
    "\n",
    "print(count_found)"
   ]
  },
  {
   "cell_type": "code",
   "execution_count": 12,
   "metadata": {},
   "outputs": [
    {
     "name": "stdout",
     "output_type": "stream",
     "text": [
      "  load corpus_target_file\n",
      "(50346, 12)\n"
     ]
    }
   ],
   "source": [
    "# Get the dataframe for Arabidopsis\n",
    "if corpus_target_file.is_file():\n",
    "  print(\"  load corpus_target_file\")\n",
    "  corpus_target = pd.read_csv(corpus_target_file, sep='\\t', compression='gzip')\n",
    "else:\n",
    "  print(\"  generate corpus_target_file\")\n",
    "  corpus_target = corpus_all.loc[target_match_idx]\n",
    "  corpus_target.to_csv(corpus_target_file, sep='\\t', compression='gzip')\n",
    "  \n",
    "print(corpus_target.shape)"
   ]
  },
  {
   "cell_type": "markdown",
   "metadata": {},
   "source": [
    "## ___Topic modeling___\n",
    "\n",
    "Codes modified from `script_4_1_topic_model_v2.py` and `script_4_2_outlier_assign.ipynb`"
   ]
  },
  {
   "cell_type": "markdown",
   "metadata": {},
   "source": [
    "### Pre-processing texts"
   ]
  },
  {
   "cell_type": "code",
   "execution_count": 13,
   "metadata": {},
   "outputs": [
    {
     "name": "stdout",
     "output_type": "stream",
     "text": [
      "Pre-processing docs\n",
      "  load processed docs\n"
     ]
    },
    {
     "data": {
      "text/plain": [
       "50346"
      ]
     },
     "execution_count": 13,
     "metadata": {},
     "output_type": "execute_result"
    }
   ],
   "source": [
    "def clean_text(x, stop_words_dict):\n",
    "    x = str(x)\n",
    "    x = x.lower()\n",
    "    # Replace any non-alphanumric characters of any length\n",
    "    # Q: Not sure what the # character do.\n",
    "    x = re.sub(r'#[A-Za-z0-9]*', ' ', x)\n",
    "    # tokenize and rid of any token matching stop words\n",
    "    tokens = word_tokenize(x)\n",
    "    x = ' '.join([w for w in tokens if not w in stop_words_dict])\n",
    "    return x\n",
    "    \n",
    "print(\"Pre-processing docs\")\n",
    "if docs_clean_file.is_file():\n",
    "  print(\"  load processed docs\")\n",
    "  with open(docs_clean_file, \"rb\") as f:\n",
    "    docs_clean = pickle.load(f)\n",
    "else:\n",
    "  print(\"  read corpus and process docs\")\n",
    "  corpus_target_df = pd.read_csv(corpus_target_file, sep='\\t', \n",
    "                                 compression='gzip')\n",
    "  \n",
    "  docs       = corpus_target_df['txt']\n",
    "  stop_words = stopwords.words('english')\n",
    "  stop_words_dict = {}\n",
    "  for i in stop_words:\n",
    "    stop_words_dict[i] = 1\n",
    "\n",
    "  docs_clean = []\n",
    "  for doc_idx in tqdm(range(len(docs))):\n",
    "    doc = docs[doc_idx]\n",
    "    docs_clean.append(clean_text(doc, stop_words_dict))\n",
    "  with open(docs_clean_file, \"wb\") as f:\n",
    "    pickle.dump(docs_clean, f)\n",
    "\n",
    "len(docs_clean)"
   ]
  },
  {
   "cell_type": "markdown",
   "metadata": {},
   "source": [
    "### Generate embeddings"
   ]
  },
  {
   "cell_type": "code",
   "execution_count": 14,
   "metadata": {},
   "outputs": [
    {
     "name": "stdout",
     "output_type": "stream",
     "text": [
      "Load embeddings\n"
     ]
    }
   ],
   "source": [
    "# Generate embeddings\n",
    "if emb_file.is_file():\n",
    "  print(\"Load embeddings\")\n",
    "  with open(emb_file, \"rb\") as f:\n",
    "    embeddings = pickle.load(f)\n",
    "else:\n",
    "  print(\"Generate embeddings\")\n",
    "  emb_model  = SentenceTransformer(model_name)\n",
    "  embeddings = emb_model.encode(docs_clean, show_progress_bar=True)\n",
    "  # Output embeddings\n",
    "  with open(emb_file, \"wb\") as f:\n",
    "    pickle.dump(embeddings, f)"
   ]
  },
  {
   "cell_type": "code",
   "execution_count": 15,
   "metadata": {},
   "outputs": [
    {
     "data": {
      "text/plain": [
       "(50346, 768)"
      ]
     },
     "execution_count": 15,
     "metadata": {},
     "output_type": "execute_result"
    }
   ],
   "source": [
    "embeddings.shape"
   ]
  },
  {
   "cell_type": "markdown",
   "metadata": {},
   "source": [
    "### Run BERTopic\n",
    "\n",
    "Note that functions are stripped from the original version to fit my needs."
   ]
  },
  {
   "cell_type": "markdown",
   "metadata": {},
   "source": [
    "#### Set parameters"
   ]
  },
  {
   "cell_type": "code",
   "execution_count": 16,
   "metadata": {},
   "outputs": [],
   "source": [
    "# HDBSCAN clustering setting\n",
    "min_cluster_size         = 100 # This is 500 for the full dataset run\n",
    "metric                   = 'euclidean' \n",
    "cluster_selection_method ='eom' \n",
    "prediction_data          = True \n",
    "min_samples              = 5\n",
    "\n",
    "# BERTopic setting\n",
    "calculate_probabilities = True\n",
    "n_neighbors             = 10  \n",
    "nr_topics               = 500\n",
    "n_gram_range            = (1,2)"
   ]
  },
  {
   "cell_type": "markdown",
   "metadata": {},
   "source": [
    "#### Initialize HDBSCAN\n",
    "\n",
    "For reducing outliers, following [this instruction](https://maartengr.github.io/BERTopic/faq.html#how-do-i-reduce-topic-outliers)\n",
    "- Also see [HDBSCAN doc](https://hdbscan.readthedocs.io/en/latest/basic_hdbscan.html#what-about-different-metrics)\n",
    "- Comparison of [distance metrics](https://www.kdnuggets.com/2019/01/comparison-text-distance-metrics.html)"
   ]
  },
  {
   "cell_type": "code",
   "execution_count": 17,
   "metadata": {},
   "outputs": [],
   "source": [
    "hdbscan_model = HDBSCAN(min_cluster_size=min_cluster_size, \n",
    "                        metric=metric, \n",
    "                        cluster_selection_method=cluster_selection_method, \n",
    "                        prediction_data=prediction_data, \n",
    "                        min_samples=min_samples)"
   ]
  },
  {
   "cell_type": "markdown",
   "metadata": {},
   "source": [
    "#### Intialize and train topic model"
   ]
  },
  {
   "cell_type": "code",
   "execution_count": 18,
   "metadata": {},
   "outputs": [],
   "source": [
    "topic_model = BERTopic(hdbscan_model=hdbscan_model,\n",
    "                       calculate_probabilities=calculate_probabilities,\n",
    "                       n_gram_range=n_gram_range,\n",
    "                       nr_topics=nr_topics,\n",
    "                       verbose=True)"
   ]
  },
  {
   "cell_type": "code",
   "execution_count": 19,
   "metadata": {},
   "outputs": [
    {
     "name": "stderr",
     "output_type": "stream",
     "text": [
      "2023-09-12 12:47:13,630 - BERTopic - Reduced dimensionality\n",
      "2023-09-12 12:47:25,233 - BERTopic - Clustered reduced embeddings\n",
      "2023-09-12 12:48:08,623 - BERTopic - Reduced number of topics from 62 to 62\n"
     ]
    }
   ],
   "source": [
    "topics, probs = topic_model.fit_transform(docs_clean,\n",
    "                                          embeddings)"
   ]
  },
  {
   "cell_type": "markdown",
   "metadata": {},
   "source": [
    "#### Save model, topics, and probability"
   ]
  },
  {
   "cell_type": "code",
   "execution_count": 20,
   "metadata": {},
   "outputs": [],
   "source": [
    "# I already save the embeddings, so won't save it again\n",
    "topic_model.save(topic_model_file)\n",
    "\n",
    "with open(topics_file, \"wb\") as f:\n",
    "    pickle.dump(topics, f)\n",
    "\n",
    "with open(probs_file, \"wb\") as f:\n",
    "  pickle.dump(probs, f)"
   ]
  },
  {
   "cell_type": "markdown",
   "metadata": {},
   "source": [
    "#### Load model and probabilities\n",
    "\n",
    "This is more for running topic modeling on the much larger corpus. Here the targeted corpus is much smaller. But keep this anyway."
   ]
  },
  {
   "cell_type": "code",
   "execution_count": 21,
   "metadata": {},
   "outputs": [],
   "source": [
    "# Load topic model\n",
    "topic_model = BERTopic.load(topic_model_file)\n",
    "\n",
    "# load prob\n",
    "with open(probs_file, \"rb\") as f:\n",
    "  probs = pickle.load(f)"
   ]
  },
  {
   "cell_type": "code",
   "execution_count": 22,
   "metadata": {},
   "outputs": [
    {
     "data": {
      "text/html": [
       "<div>\n",
       "<style scoped>\n",
       "    .dataframe tbody tr th:only-of-type {\n",
       "        vertical-align: middle;\n",
       "    }\n",
       "\n",
       "    .dataframe tbody tr th {\n",
       "        vertical-align: top;\n",
       "    }\n",
       "\n",
       "    .dataframe thead th {\n",
       "        text-align: right;\n",
       "    }\n",
       "</style>\n",
       "<table border=\"1\" class=\"dataframe\">\n",
       "  <thead>\n",
       "    <tr style=\"text-align: right;\">\n",
       "      <th></th>\n",
       "      <th>Topic</th>\n",
       "      <th>Count</th>\n",
       "      <th>Name</th>\n",
       "      <th>Representation</th>\n",
       "      <th>Representative_Docs</th>\n",
       "    </tr>\n",
       "  </thead>\n",
       "  <tbody>\n",
       "    <tr>\n",
       "      <th>0</th>\n",
       "      <td>-1</td>\n",
       "      <td>21556</td>\n",
       "      <td>-1_arabidopsis_plants_plant_genes</td>\n",
       "      <td>[arabidopsis, plants, plant, genes, expression...</td>\n",
       "      <td>[transcription factor garwrky5 involved salt s...</td>\n",
       "    </tr>\n",
       "    <tr>\n",
       "      <th>1</th>\n",
       "      <td>0</td>\n",
       "      <td>117</td>\n",
       "      <td>0_autophagy_atg8_atg_autophagic</td>\n",
       "      <td>[autophagy, atg8, atg, autophagic, degradation...</td>\n",
       "      <td>[tor negative regulator autophagy arabidopsis ...</td>\n",
       "    </tr>\n",
       "    <tr>\n",
       "      <th>2</th>\n",
       "      <td>1</td>\n",
       "      <td>111</td>\n",
       "      <td>1_ptdins_inositol_phosphatidylinositol_p2</td>\n",
       "      <td>[ptdins, inositol, phosphatidylinositol, p2, p...</td>\n",
       "      <td>[type b phosphatidylinositol-4-phosphate 5-kin...</td>\n",
       "    </tr>\n",
       "    <tr>\n",
       "      <th>3</th>\n",
       "      <td>2</td>\n",
       "      <td>289</td>\n",
       "      <td>2_sumo_ubiquitin_e3_proteasome</td>\n",
       "      <td>[sumo, ubiquitin, e3, proteasome, proteins, li...</td>\n",
       "      <td>[examining protein stability relevance plant g...</td>\n",
       "    </tr>\n",
       "    <tr>\n",
       "      <th>4</th>\n",
       "      <td>3</td>\n",
       "      <td>100</td>\n",
       "      <td>3_spaceflight_microgravity_space_gravity</td>\n",
       "      <td>[spaceflight, microgravity, space, gravity, gr...</td>\n",
       "      <td>[comparative transcriptomics indicate changes ...</td>\n",
       "    </tr>\n",
       "  </tbody>\n",
       "</table>\n",
       "</div>"
      ],
      "text/plain": [
       "   Topic  Count                                       Name  \\\n",
       "0     -1  21556          -1_arabidopsis_plants_plant_genes   \n",
       "1      0    117            0_autophagy_atg8_atg_autophagic   \n",
       "2      1    111  1_ptdins_inositol_phosphatidylinositol_p2   \n",
       "3      2    289             2_sumo_ubiquitin_e3_proteasome   \n",
       "4      3    100   3_spaceflight_microgravity_space_gravity   \n",
       "\n",
       "                                      Representation  \\\n",
       "0  [arabidopsis, plants, plant, genes, expression...   \n",
       "1  [autophagy, atg8, atg, autophagic, degradation...   \n",
       "2  [ptdins, inositol, phosphatidylinositol, p2, p...   \n",
       "3  [sumo, ubiquitin, e3, proteasome, proteins, li...   \n",
       "4  [spaceflight, microgravity, space, gravity, gr...   \n",
       "\n",
       "                                 Representative_Docs  \n",
       "0  [transcription factor garwrky5 involved salt s...  \n",
       "1  [tor negative regulator autophagy arabidopsis ...  \n",
       "2  [type b phosphatidylinositol-4-phosphate 5-kin...  \n",
       "3  [examining protein stability relevance plant g...  \n",
       "4  [comparative transcriptomics indicate changes ...  "
      ]
     },
     "execution_count": 22,
     "metadata": {},
     "output_type": "execute_result"
    }
   ],
   "source": [
    "topic_info = topic_model.get_topic_info()\n",
    "topic_info.head()"
   ]
  },
  {
   "cell_type": "code",
   "execution_count": 23,
   "metadata": {},
   "outputs": [
    {
     "data": {
      "text/html": [
       "<div>\n",
       "<style scoped>\n",
       "    .dataframe tbody tr th:only-of-type {\n",
       "        vertical-align: middle;\n",
       "    }\n",
       "\n",
       "    .dataframe tbody tr th {\n",
       "        vertical-align: top;\n",
       "    }\n",
       "\n",
       "    .dataframe thead th {\n",
       "        text-align: right;\n",
       "    }\n",
       "</style>\n",
       "<table border=\"1\" class=\"dataframe\">\n",
       "  <thead>\n",
       "    <tr style=\"text-align: right;\">\n",
       "      <th></th>\n",
       "      <th>Topic</th>\n",
       "      <th>Count</th>\n",
       "      <th>Name</th>\n",
       "      <th>Representation</th>\n",
       "      <th>Representative_Docs</th>\n",
       "    </tr>\n",
       "  </thead>\n",
       "  <tbody>\n",
       "    <tr>\n",
       "      <th>57</th>\n",
       "      <td>56</td>\n",
       "      <td>368</td>\n",
       "      <td>56_ethylene_auxin_ga_root</td>\n",
       "      <td>[ethylene, auxin, ga, root, etr1, growth, dell...</td>\n",
       "      <td>[arabidopsis etr1 ers1 differentially repress ...</td>\n",
       "    </tr>\n",
       "    <tr>\n",
       "      <th>58</th>\n",
       "      <td>57</td>\n",
       "      <td>1342</td>\n",
       "      <td>57_meristem_floral_cell_development</td>\n",
       "      <td>[meristem, floral, cell, development, stem, sh...</td>\n",
       "      <td>[shoot floral meristem maintenance arabidopsis...</td>\n",
       "    </tr>\n",
       "    <tr>\n",
       "      <th>59</th>\n",
       "      <td>58</td>\n",
       "      <td>430</td>\n",
       "      <td>58_circadian_clock_circadian clock_rhythms</td>\n",
       "      <td>[circadian, clock, circadian clock, rhythms, c...</td>\n",
       "      <td>[metabolic sensor akin10 modulates arabidopsis...</td>\n",
       "    </tr>\n",
       "    <tr>\n",
       "      <th>60</th>\n",
       "      <td>59</td>\n",
       "      <td>176</td>\n",
       "      <td>59_flowering_ft_co_floral</td>\n",
       "      <td>[flowering, ft, co, floral, flowering locus, p...</td>\n",
       "      <td>[balancing forces photoperiodic control flower...</td>\n",
       "    </tr>\n",
       "    <tr>\n",
       "      <th>61</th>\n",
       "      <td>60</td>\n",
       "      <td>132</td>\n",
       "      <td>60_flowering_ft_vernalization_flowering time</td>\n",
       "      <td>[flowering, ft, vernalization, flowering time,...</td>\n",
       "      <td>[medicago phya promotes flowering , primary st...</td>\n",
       "    </tr>\n",
       "  </tbody>\n",
       "</table>\n",
       "</div>"
      ],
      "text/plain": [
       "    Topic  Count                                          Name  \\\n",
       "57     56    368                     56_ethylene_auxin_ga_root   \n",
       "58     57   1342           57_meristem_floral_cell_development   \n",
       "59     58    430    58_circadian_clock_circadian clock_rhythms   \n",
       "60     59    176                     59_flowering_ft_co_floral   \n",
       "61     60    132  60_flowering_ft_vernalization_flowering time   \n",
       "\n",
       "                                       Representation  \\\n",
       "57  [ethylene, auxin, ga, root, etr1, growth, dell...   \n",
       "58  [meristem, floral, cell, development, stem, sh...   \n",
       "59  [circadian, clock, circadian clock, rhythms, c...   \n",
       "60  [flowering, ft, co, floral, flowering locus, p...   \n",
       "61  [flowering, ft, vernalization, flowering time,...   \n",
       "\n",
       "                                  Representative_Docs  \n",
       "57  [arabidopsis etr1 ers1 differentially repress ...  \n",
       "58  [shoot floral meristem maintenance arabidopsis...  \n",
       "59  [metabolic sensor akin10 modulates arabidopsis...  \n",
       "60  [balancing forces photoperiodic control flower...  \n",
       "61  [medicago phya promotes flowering , primary st...  "
      ]
     },
     "execution_count": 23,
     "metadata": {},
     "output_type": "execute_result"
    }
   ],
   "source": [
    "topic_info.tail()"
   ]
  },
  {
   "cell_type": "markdown",
   "metadata": {},
   "source": [
    "## ___Outlier assignments___\n",
    "\n",
    "Modified from `script_4_2_outlier_assign.ipynb`"
   ]
  },
  {
   "cell_type": "markdown",
   "metadata": {},
   "source": [
    "### Assignments\n",
    "\n",
    "To assign outlier to clusters if its max probability to a cluster exceed 95 percentile value of the overall probability distribution."
   ]
  },
  {
   "cell_type": "code",
   "execution_count": 24,
   "metadata": {},
   "outputs": [],
   "source": [
    "# 95 precentile probability value as threshold\n",
    "probability_threshold = np.percentile(probs, 95)\n",
    "new_topics = [np.argmax(prob) if max(prob) >= probability_threshold else -1 \n",
    "                                                            for prob in probs]"
   ]
  },
  {
   "cell_type": "code",
   "execution_count": 25,
   "metadata": {},
   "outputs": [
    {
     "data": {
      "text/plain": [
       "0.0870575616732213"
      ]
     },
     "execution_count": 25,
     "metadata": {},
     "output_type": "execute_result"
    }
   ],
   "source": [
    "# Unassigned doc number\n",
    "n_unassigned = pd.Series(new_topics).value_counts().loc[-1]\n",
    "n_unassigned/len(new_topics)"
   ]
  },
  {
   "cell_type": "markdown",
   "metadata": {},
   "source": [
    "### Update topics\n",
    "\n",
    "Save the new topic assignments to an updated topic model"
   ]
  },
  {
   "cell_type": "code",
   "execution_count": 26,
   "metadata": {},
   "outputs": [],
   "source": [
    "# update topic based on new topics\n",
    "topic_model.update_topics(docs_clean, new_topics)"
   ]
  },
  {
   "cell_type": "code",
   "execution_count": 27,
   "metadata": {},
   "outputs": [],
   "source": [
    "# Update topic frequencies\n",
    "documents = pd.DataFrame({\"Document\": docs_clean, \"Topic\": new_topics})\n",
    "topic_model._update_topic_size(documents)\n",
    "topic_model.save(topic_model_updated_file)"
   ]
  },
  {
   "cell_type": "markdown",
   "metadata": {},
   "source": [
    "### Get updated topic info"
   ]
  },
  {
   "cell_type": "code",
   "execution_count": 28,
   "metadata": {},
   "outputs": [],
   "source": [
    "# Load topic model again\n",
    "topic_model = BERTopic.load(topic_model_updated_file)"
   ]
  },
  {
   "cell_type": "code",
   "execution_count": 29,
   "metadata": {},
   "outputs": [
    {
     "data": {
      "text/html": [
       "<div>\n",
       "<style scoped>\n",
       "    .dataframe tbody tr th:only-of-type {\n",
       "        vertical-align: middle;\n",
       "    }\n",
       "\n",
       "    .dataframe tbody tr th {\n",
       "        vertical-align: top;\n",
       "    }\n",
       "\n",
       "    .dataframe thead th {\n",
       "        text-align: right;\n",
       "    }\n",
       "</style>\n",
       "<table border=\"1\" class=\"dataframe\">\n",
       "  <thead>\n",
       "    <tr style=\"text-align: right;\">\n",
       "      <th></th>\n",
       "      <th>Topic</th>\n",
       "      <th>Count</th>\n",
       "      <th>Name</th>\n",
       "      <th>Representation</th>\n",
       "      <th>Representative_Docs</th>\n",
       "    </tr>\n",
       "  </thead>\n",
       "  <tbody>\n",
       "    <tr>\n",
       "      <th>0</th>\n",
       "      <td>-1</td>\n",
       "      <td>4383</td>\n",
       "      <td>-1_arabidopsis_plants_plant_genes</td>\n",
       "      <td>[arabidopsis, plants, plant, genes, expression...</td>\n",
       "      <td>[transcription factor garwrky5 involved salt s...</td>\n",
       "    </tr>\n",
       "    <tr>\n",
       "      <th>1</th>\n",
       "      <td>0</td>\n",
       "      <td>161</td>\n",
       "      <td>0_autophagy_atg8_atg_autophagic</td>\n",
       "      <td>[autophagy, atg8, atg, autophagic, degradation...</td>\n",
       "      <td>[tor negative regulator autophagy arabidopsis ...</td>\n",
       "    </tr>\n",
       "    <tr>\n",
       "      <th>2</th>\n",
       "      <td>1</td>\n",
       "      <td>325</td>\n",
       "      <td>1_ptdins_inositol_phosphatidylinositol_p2</td>\n",
       "      <td>[ptdins, inositol, phosphatidylinositol, p2, p...</td>\n",
       "      <td>[type b phosphatidylinositol-4-phosphate 5-kin...</td>\n",
       "    </tr>\n",
       "    <tr>\n",
       "      <th>3</th>\n",
       "      <td>2</td>\n",
       "      <td>455</td>\n",
       "      <td>2_sumo_ubiquitin_e3_proteasome</td>\n",
       "      <td>[sumo, ubiquitin, e3, proteasome, proteins, li...</td>\n",
       "      <td>[examining protein stability relevance plant g...</td>\n",
       "    </tr>\n",
       "    <tr>\n",
       "      <th>4</th>\n",
       "      <td>3</td>\n",
       "      <td>161</td>\n",
       "      <td>3_spaceflight_microgravity_space_gravity</td>\n",
       "      <td>[spaceflight, microgravity, space, gravity, gr...</td>\n",
       "      <td>[comparative transcriptomics indicate changes ...</td>\n",
       "    </tr>\n",
       "  </tbody>\n",
       "</table>\n",
       "</div>"
      ],
      "text/plain": [
       "   Topic  Count                                       Name  \\\n",
       "0     -1   4383          -1_arabidopsis_plants_plant_genes   \n",
       "1      0    161            0_autophagy_atg8_atg_autophagic   \n",
       "2      1    325  1_ptdins_inositol_phosphatidylinositol_p2   \n",
       "3      2    455             2_sumo_ubiquitin_e3_proteasome   \n",
       "4      3    161   3_spaceflight_microgravity_space_gravity   \n",
       "\n",
       "                                      Representation  \\\n",
       "0  [arabidopsis, plants, plant, genes, expression...   \n",
       "1  [autophagy, atg8, atg, autophagic, degradation...   \n",
       "2  [ptdins, inositol, phosphatidylinositol, p2, p...   \n",
       "3  [sumo, ubiquitin, e3, proteasome, proteins, li...   \n",
       "4  [spaceflight, microgravity, space, gravity, gr...   \n",
       "\n",
       "                                 Representative_Docs  \n",
       "0  [transcription factor garwrky5 involved salt s...  \n",
       "1  [tor negative regulator autophagy arabidopsis ...  \n",
       "2  [type b phosphatidylinositol-4-phosphate 5-kin...  \n",
       "3  [examining protein stability relevance plant g...  \n",
       "4  [comparative transcriptomics indicate changes ...  "
      ]
     },
     "execution_count": 29,
     "metadata": {},
     "output_type": "execute_result"
    }
   ],
   "source": [
    "# Check topic info to make sure the topic model is updated\n",
    "topic_info = topic_model.get_topic_info()\n",
    "topic_info[:5]"
   ]
  },
  {
   "cell_type": "code",
   "execution_count": 30,
   "metadata": {},
   "outputs": [
    {
     "data": {
      "text/plain": [
       "(45963, 91.29424383267786)"
      ]
     },
     "execution_count": 30,
     "metadata": {},
     "output_type": "execute_result"
    }
   ],
   "source": [
    "n_total     = np.sum(topic_info['Count'].values)\n",
    "n_outlier   = topic_info['Count'][0]\n",
    "n_in_topics = n_total - n_outlier\n",
    "n_in_topics, n_in_topics/n_total*100"
   ]
  },
  {
   "cell_type": "markdown",
   "metadata": {},
   "source": [
    "## ___Topic model analysis___"
   ]
  },
  {
   "attachments": {},
   "cell_type": "markdown",
   "metadata": {},
   "source": [
    "### Topic size plot"
   ]
  },
  {
   "cell_type": "code",
   "execution_count": 31,
   "metadata": {},
   "outputs": [],
   "source": [
    "topic_info_sorted = topic_info.sort_values(by=['Count'])\n",
    "topic_names  = list(topic_info_sorted.Name.values)\n",
    "topic_counts = list(topic_info_sorted.Count.values)\n",
    "y_pos        = len(topic_names)"
   ]
  },
  {
   "cell_type": "code",
   "execution_count": 32,
   "metadata": {},
   "outputs": [
    {
     "data": {
      "image/png": "[encoded data removed]",
      "text/plain": [
       "<Figure size 800x1200 with 1 Axes>"
      ]
     },
     "metadata": {},
     "output_type": "display_data"
    }
   ],
   "source": [
    "# Bar plot\n",
    "# xlabel got cutoff, see:\n",
    "# https://stackoverflow.com/questions/23497569/bar-plot-cutting-off-axis-title\n",
    "\n",
    "plt.figure(figsize=(8,12))\n",
    "plt.barh(topic_names, topic_counts)\n",
    "#ax.set_yticks(y_pos, labels=topic_names)\n",
    "plt.xlabel('Number of records')\n",
    "plt.tight_layout()\n",
    "plt.savefig(work_dir / f\"figure_topic_count_{target}.pdf\")"
   ]
  },
  {
   "cell_type": "markdown",
   "metadata": {},
   "source": [
    "### Topic-term matrix for top 50 terms"
   ]
  },
  {
   "cell_type": "code",
   "execution_count": 33,
   "metadata": {},
   "outputs": [
    {
     "data": {
      "text/plain": [
       "(scipy.sparse._csr.csr_matrix, (62, 3118361))"
      ]
     },
     "execution_count": 33,
     "metadata": {},
     "output_type": "execute_result"
    }
   ],
   "source": [
    "# Sparse matrix with topics as rows and features (i.e. terms) as columns, \n",
    "# values are c-Tf-idf\n",
    "# 10/4/22: The updated BERTopic refer to the c_tf_idf matrix differently with an\n",
    "#   extra '_' at the end\n",
    "#topic_term_matrix = topic_model.c_tf_idf\n",
    "topic_term_matrix = topic_model.c_tf_idf_\n",
    "type(topic_term_matrix), topic_term_matrix.shape"
   ]
  },
  {
   "cell_type": "code",
   "execution_count": 34,
   "metadata": {},
   "outputs": [
    {
     "name": "stderr",
     "output_type": "stream",
     "text": [
      "100%|██████████| 61/61 [00:08<00:00,  6.95it/s]\n"
     ]
    }
   ],
   "source": [
    "# A list of features (terms)\n",
    "terms = topic_model.vectorizer_model.get_feature_names_out()\n",
    "\n",
    "# Get top 50 terms\n",
    "top_50 = {} # {topic:[top50_idx_list, top50_c-tf-idf_list, to50_feat_list]}\n",
    "\n",
    "# Skip the outlier topic, named the variable topic_plus1 because the topic\n",
    "# index is -1 from the index in the topic_term_marix.\n",
    "for topic_plus1 in tqdm(range(1, topic_term_matrix.shape[0])):\n",
    "  row     = topic_term_matrix.getrow(topic_plus1).toarray()[0].ravel()\n",
    "\n",
    "  # The following two lines sorted from low to high\n",
    "  t50_idx = list(row.argsort()[-50:])\n",
    "  t50_val = list(row[row.argsort()[-50:]])\n",
    "\n",
    "  t50_fea = [terms[i] for i in t50_idx]\n",
    "  top_50[topic_plus1-1] = [t50_idx, t50_val, t50_fea]"
   ]
  },
  {
   "cell_type": "code",
   "execution_count": 35,
   "metadata": {},
   "outputs": [],
   "source": [
    "# Save the top 50 terms\n",
    "with open(top_50_terms_file, 'wb') as f:\n",
    "  pickle.dump(top_50, f)"
   ]
  },
  {
   "cell_type": "code",
   "execution_count": 36,
   "metadata": {},
   "outputs": [],
   "source": [
    "topic_labels = topic_model.generate_topic_labels(nr_words=10,\n",
    "                                                 topic_prefix=True,\n",
    "                                                 separator='|')"
   ]
  },
  {
   "cell_type": "code",
   "execution_count": 37,
   "metadata": {},
   "outputs": [],
   "source": [
    "# Save top terms for different topics into an xlsx file\n",
    "xlsx      = Workbook(top_50_terms_xlsx)\n",
    "\n",
    "# Do not output outlier\n",
    "topic_label_df = pd.DataFrame(topic_labels[1:])\n",
    "topic_label_df.columns = [\"label\"]\n",
    "topic_label_df.to_csv(topic_label_file, sep='\\t')\n",
    "\n",
    "worksheet = xlsx.add_worksheet(\"topic_label\")\n",
    "read_tsv = csv.reader(open(topic_label_file,'r',encoding='utf-8'),delimiter='\\t')\n",
    "for row, data in enumerate(read_tsv):\n",
    "  worksheet.write_row(row, 0, data)"
   ]
  },
  {
   "cell_type": "code",
   "execution_count": 38,
   "metadata": {},
   "outputs": [],
   "source": [
    "# Incude the representative doc in a worksheet\n",
    "rep_docs    = topic_model.get_representative_docs()\n",
    "rep_docs_df = pd.DataFrame.from_dict(rep_docs, orient='index',\n",
    "                                  columns=['doc1', 'doc2', 'doc3'])\n",
    "rep_docs_df.to_csv(rep_docs_file, sep='\\t')\n",
    "\n",
    "worksheet = xlsx.add_worksheet(\"representative docs\")\n",
    "read_tsv = csv.reader(open(rep_docs_file,'r',encoding='utf-8'),delimiter='\\t')\n",
    "for row, data in enumerate(read_tsv):\n",
    "  worksheet.write_row(row, 0, data)"
   ]
  },
  {
   "cell_type": "code",
   "execution_count": 39,
   "metadata": {},
   "outputs": [],
   "source": [
    "# Put the top 50 term info into different tsv files in the top_50 folder\n",
    "# Output individual tsv files and put tsv into xlsx\n",
    "for topic in top_50:\n",
    "  topic_file = top_50_dir / f\"topic_{topic}.tsv\"\n",
    "  # The nested list has index, c-tf-idf, and feature as rows. So it is transposed\n",
    "  # to have the rows as columns. The iloc bit is to reverse the order so higher\n",
    "  # c-tf-idf entries are on top.\n",
    "  topic_df = pd.DataFrame(top_50[topic]).transpose().iloc[::-1]\n",
    "  topic_df.columns = [\"index\", \"c-tf-idf\", \"feature\"]\n",
    "  topic_df.to_csv(topic_file, sep='\\t')\n",
    "\n",
    "  # Save to xlsx\n",
    "  worksheet = xlsx.add_worksheet(f\"{topic}\")\n",
    "  read_tsv  = csv.reader(open(topic_file, 'r',encoding='utf-8'),delimiter='\\t')\n",
    "  for row, data in enumerate(read_tsv):\n",
    "    worksheet.write_row(row, 0, data)\n",
    "\n",
    "xlsx.close()"
   ]
  },
  {
   "cell_type": "markdown",
   "metadata": {},
   "source": [
    "## ___Records per year and timestamp bins___\n",
    "\n",
    "Code modified from `script_4_4_topic_over_time.ipynb`"
   ]
  },
  {
   "cell_type": "markdown",
   "metadata": {},
   "source": [
    "### Plot records per year"
   ]
  },
  {
   "cell_type": "code",
   "execution_count": 40,
   "metadata": {},
   "outputs": [
    {
     "data": {
      "image/png": "[encoded data removed]",
      "text/plain": [
       "<Figure size 600x1000 with 1 Axes>"
      ]
     },
     "metadata": {},
     "output_type": "display_data"
    }
   ],
   "source": [
    "# Get pandas series dates\n",
    "dates = corpus_target['Date']\n",
    "\n",
    "ts_for_plot = [] # timestamps for plotting\n",
    "docs_yr     = [] # a list of years for generating bar graph later\n",
    "early_doc   = {} # {year: count}\n",
    "for date in dates:\n",
    "  [yr, mo, da] = date.split('-') # year, month, day\n",
    "  # docs from the same year has the same timestamp\n",
    "  yr = int(yr)\n",
    "  docs_yr.append(yr)\n",
    "\n",
    "  # Create \n",
    "  if yr not in early_doc:\n",
    "    early_doc[yr] = 1\n",
    "  else:\n",
    "    early_doc[yr]+= 1\n",
    "\n",
    "  # Set year before 1970 as 1969.\n",
    "  if yr < 1970:  \n",
    "    yr = 1969\n",
    "\n",
    "  # Set year after 2020 as 2020. There are 58 instances\n",
    "  if yr > 2020:  \n",
    "    yr = 2020\n",
    "\n",
    "  dt   = datetime(yr, 1, 1)\n",
    "  ts   = dt.timestamp()\n",
    "  ts_for_plot.append(ts)\n",
    "\n",
    "# array with number of records per year\n",
    "docs_year_array = np.unique(np.array(docs_yr), return_counts=True)\n",
    "\n",
    "# dataframe with counts per year\n",
    "docs_year_df    = pd.DataFrame(docs_year_array[1], columns=[\"Count\"],\n",
    "                               index=docs_year_array[0])\n",
    "\n",
    "# without log\n",
    "plt.figure(figsize=(6,10))\n",
    "plt.barh(docs_year_array[0], docs_year_array[1])\n",
    "plt.ylabel('Year')\n",
    "plt.xlabel('Numbers of documents')\n",
    "plt.yticks(range(1960, 2021, 5))\n",
    "plt.savefig(work_dir / f'figure_num_docs_per_year_{target}.pdf')"
   ]
  },
  {
   "cell_type": "code",
   "execution_count": 41,
   "metadata": {},
   "outputs": [
    {
     "data": {
      "image/png": "[encoded data removed]",
      "text/plain": [
       "<Figure size 600x1000 with 1 Axes>"
      ]
     },
     "metadata": {},
     "output_type": "display_data"
    }
   ],
   "source": [
    "# logged\n",
    "plt.figure(figsize=(6,10))\n",
    "plt.barh(docs_year_array[0], np.log10(docs_year_array[1]+1))\n",
    "plt.ylabel('Year')\n",
    "\n",
    "# +1 so the x-axis value is not zero.\n",
    "plt.xlabel('log10(Numbers of documents + 1)')\n",
    "plt.yticks(range(1960, 2021, 5))\n",
    "plt.savefig(work_dir / 'figure_num_docs_per_year_{target}_logged.pdf')"
   ]
  },
  {
   "cell_type": "markdown",
   "metadata": {},
   "source": [
    "### Get the binned timestamp values\n",
    "\n",
    "Divide into 20 bins"
   ]
  },
  {
   "cell_type": "code",
   "execution_count": 42,
   "metadata": {},
   "outputs": [],
   "source": [
    "# Turn all dates into timestamps \n",
    "ts_for_bins = []\n",
    "for date in dates:\n",
    "  [yr, mo, da] = date.split('-') # year, month, day\n",
    "  dt   = datetime(int(yr), int(mo), int(da))\n",
    "  ts   = dt.timestamp()\n",
    "  ts_for_bins.append(ts)\n",
    "  \n",
    "ts_for_bins.sort()"
   ]
  },
  {
   "cell_type": "code",
   "execution_count": 43,
   "metadata": {},
   "outputs": [],
   "source": [
    "# bin size\n",
    "bin_num  = 20\n",
    "bin_size = int(len(ts_for_bins)/bin_num)\n",
    "\n",
    "# index values of every 1/bin_num*100 percentile (because the data is broken \n",
    "# into parts=bin_num)\n",
    "bin_idxs = [idx for idx in range(0, len(ts_for_bins), bin_size)]\n",
    "\n",
    "# timestamp values at bin_idxs\n",
    "bin_timestamps = [ts_for_bins[idx] for idx in bin_idxs]\n",
    "\n",
    "# Modify the last value to be the max timestamp value + 1. This is otherwise\n",
    "# because of the bin_size is rounded down the last value be smaller than the max\n",
    "# timestamp values. Also, +1 to the max value, otherwise, the last entries will\n",
    "# be in its own bin.\n",
    "max_timestamp      = max(ts_for_bins) + 1\n",
    "bin_timestamps[-1] = max_timestamp\n",
    "\n",
    "# dates correspond to the different timestamp\n",
    "bin_dates      = [datetime.fromtimestamp(ts) for ts in bin_timestamps]\n",
    "\n",
    "# Put idx, timestamp, and date into a dataframe and save it.\n",
    "bin_df         = pd.DataFrame(list(zip(bin_idxs, bin_timestamps, bin_dates)),\n",
    "            columns=['bin_start_idx', 'bin_start_timestamp', 'bin_start_date'])\n",
    "bin_df.to_csv(work_dir / f\"table_bin_timestamp_date_{target}.tsv\", sep='\\t')"
   ]
  },
  {
   "cell_type": "code",
   "execution_count": 44,
   "metadata": {},
   "outputs": [
    {
     "data": {
      "text/plain": [
       "(   bin_start_idx  bin_start_timestamp bin_start_date\n",
       " 0              0        -1.211148e+08     1966-03-01\n",
       " 1           2517         9.030672e+08     1998-08-14\n",
       " 2           5034         1.006405e+09     2001-11-22\n",
       " 3           7551         1.071551e+09     2003-12-16\n",
       " 4          10068         1.124942e+09     2005-08-25,\n",
       "     bin_start_idx  bin_start_timestamp      bin_start_date\n",
       " 16          40272         1.509509e+09 2017-11-01 00:00:00\n",
       " 17          42789         1.536034e+09 2018-09-04 00:00:00\n",
       " 18          45306         1.561176e+09 2019-06-22 00:00:00\n",
       " 19          47823         1.585714e+09 2020-04-01 00:00:00\n",
       " 20          50340         1.609477e+09 2021-01-01 00:00:01)"
      ]
     },
     "execution_count": 44,
     "metadata": {},
     "output_type": "execute_result"
    }
   ],
   "source": [
    "bin_df.head(), bin_df.tail()"
   ]
  },
  {
   "cell_type": "markdown",
   "metadata": {},
   "source": [
    "### Generate the binned timestamps"
   ]
  },
  {
   "cell_type": "code",
   "execution_count": 45,
   "metadata": {},
   "outputs": [
    {
     "data": {
      "text/plain": [
       "50346"
      ]
     },
     "execution_count": 45,
     "metadata": {},
     "output_type": "execute_result"
    }
   ],
   "source": [
    "# Assign new timestamps based on the bin timestamp values\n",
    "ts_in_bins = []\n",
    "for date in dates:\n",
    "  [yr, mo, da] = date.split('-') # year, month, day\n",
    "  dt   = datetime(int(yr), int(mo), int(da))\n",
    "  ts   = dt.timestamp()\n",
    "\n",
    "  bin_idx = bisect(bin_timestamps, ts)\n",
    "\n",
    "  if bin_idx < len(bin_timestamps):\n",
    "    ts2     = bin_timestamps[bin_idx]\n",
    "  # Deal with the last bin\n",
    "  else:\n",
    "    ts2     = datetime(2022, 12, 31).timestamp()\n",
    "  ts_in_bins.append(ts2) \n",
    "\n",
    "len(ts_in_bins) # Expect 50346, the number of Arabidopsis docs"
   ]
  },
  {
   "cell_type": "markdown",
   "metadata": {},
   "source": [
    "## ___Run topics_over_time___\n",
    "\n",
    "The following is modified from `topics_over_time` in `_bertopic.py`\n",
    "- [source](https://github.com/MaartenGr/BERTopic/blob/master/bertopic/_bertopic.py)\n"
   ]
  },
  {
   "cell_type": "markdown",
   "metadata": {},
   "source": [
    "### Set up"
   ]
  },
  {
   "cell_type": "code",
   "execution_count": 46,
   "metadata": {},
   "outputs": [],
   "source": [
    "docs             = docs_clean\n",
    "topics           = new_topics # 10/27: an earlier run did not update this\n",
    "timestamps       = ts_in_bins\n",
    "nr_bins          = 20\n",
    "global_tuning    = 0\n",
    "evolution_tuning = 1\n",
    "\n",
    "# Get the global (i.e., based on the whole timef rame) ctfidf values\n",
    "global_c_tf_idf = normalize(topic_model.c_tf_idf_, axis=1, norm='l1', copy=False)\n",
    "# Construct a documents dataframe\n",
    "documents = pd.DataFrame({\"Document\": docs, \"Topic\": topics, \n",
    "                          \"Timestamps\": timestamps})"
   ]
  },
  {
   "cell_type": "code",
   "execution_count": 47,
   "metadata": {},
   "outputs": [
    {
     "data": {
      "text/plain": [
       "(62, -1, dict, 0)"
      ]
     },
     "execution_count": 47,
     "metadata": {},
     "output_type": "execute_result"
    }
   ],
   "source": [
    "# Get topic names, ordered and then get their indices, 0-based\n",
    "all_topics = sorted(list(documents.Topic.unique()))\n",
    "all_topics_indices = {topic: index for index, topic in enumerate(all_topics)}\n",
    "\n",
    "# 53 topics, index=0 is the outlier\n",
    "len(all_topics), all_topics[0], type(all_topics_indices), all_topics_indices[-1]"
   ]
  },
  {
   "cell_type": "code",
   "execution_count": 48,
   "metadata": {},
   "outputs": [
    {
     "data": {
      "text/html": [
       "<div>\n",
       "<style scoped>\n",
       "    .dataframe tbody tr th:only-of-type {\n",
       "        vertical-align: middle;\n",
       "    }\n",
       "\n",
       "    .dataframe tbody tr th {\n",
       "        vertical-align: top;\n",
       "    }\n",
       "\n",
       "    .dataframe thead th {\n",
       "        text-align: right;\n",
       "    }\n",
       "</style>\n",
       "<table border=\"1\" class=\"dataframe\">\n",
       "  <thead>\n",
       "    <tr style=\"text-align: right;\">\n",
       "      <th></th>\n",
       "      <th>Document</th>\n",
       "      <th>Topic</th>\n",
       "      <th>Timestamps</th>\n",
       "      <th>Bins</th>\n",
       "    </tr>\n",
       "  </thead>\n",
       "  <tbody>\n",
       "    <tr>\n",
       "      <th>0</th>\n",
       "      <td>somatic mosaicism plants special reference som...</td>\n",
       "      <td>-1</td>\n",
       "      <td>903067199.0</td>\n",
       "      <td>(903067199.0, 903067201.0]</td>\n",
       "    </tr>\n",
       "    <tr>\n",
       "      <th>1</th>\n",
       "      <td>[ growth arabidopsis thaliana embryos followin...</td>\n",
       "      <td>3</td>\n",
       "      <td>903067199.0</td>\n",
       "      <td>(903067199.0, 903067201.0]</td>\n",
       "    </tr>\n",
       "  </tbody>\n",
       "</table>\n",
       "</div>"
      ],
      "text/plain": [
       "                                            Document  Topic   Timestamps  \\\n",
       "0  somatic mosaicism plants special reference som...     -1  903067199.0   \n",
       "1  [ growth arabidopsis thaliana embryos followin...      3  903067199.0   \n",
       "\n",
       "                         Bins  \n",
       "0  (903067199.0, 903067201.0]  \n",
       "1  (903067199.0, 903067201.0]  "
      ]
     },
     "execution_count": 48,
     "metadata": {},
     "output_type": "execute_result"
    }
   ],
   "source": [
    "# Bin values into discrete intervals\n",
    "ts_bins   = [] # a list of tuples showing the bin range (+/-1 of the unique val)\n",
    "for ts in timestamps:\n",
    "  ts_bins.append(pd.Interval(left=ts-1, right=ts+1))\n",
    "\n",
    "# Add the bin info as a new column in documents df\n",
    "documents[\"Bins\"] = ts_bins\n",
    "# Add timestamp column\n",
    "documents[\"Timestamps\"] = documents.apply(lambda row: row.Bins.left, 1)\n",
    "documents.head(2)"
   ]
  },
  {
   "cell_type": "code",
   "execution_count": 49,
   "metadata": {},
   "outputs": [
    {
     "data": {
      "text/plain": [
       "array([9.03067199e+08, 1.00640520e+09, 1.07155080e+09, 1.12494240e+09,\n",
       "       1.17082440e+09, 1.21203360e+09, 1.25177760e+09, 1.28763360e+09,\n",
       "       1.31796000e+09, 1.34880480e+09, 1.37653920e+09, 1.40237280e+09,\n",
       "       1.42941600e+09, 1.45646280e+09, 1.48307400e+09, 1.50950880e+09,\n",
       "       1.53603360e+09, 1.56117600e+09, 1.58571360e+09, 1.60947720e+09])"
      ]
     },
     "execution_count": 49,
     "metadata": {},
     "output_type": "execute_result"
    }
   ],
   "source": [
    "# Sort documents in chronological order\n",
    "documents  = documents.sort_values(\"Timestamps\")\n",
    "\n",
    "# Unique timestamps\n",
    "ts_unique = documents.Timestamps.unique()\n",
    "ts_unique"
   ]
  },
  {
   "cell_type": "markdown",
   "metadata": {},
   "source": [
    "### Run modified topics_over_time code\n",
    "\n",
    "Setting\n",
    "- evolution_tuning=1, global_tuning=0\n",
    "\n",
    "09/12/23\n",
    "- The following line throws an error after update\n",
    "  - `words_per_toc = topic_model._extract_words_per_topic(words, c_tf_idf, labels)`\n",
    "  - In the current version, `labels` is replaced with `documents` mentioned [here](https://github.com/MaartenGr/BERTopic/issues/463)\n",
    "\n",
    "```Python\n",
    "documents = pd.DataFrame({\"Document\": documents,\n",
    "                          \"ID\": range(len(documents)),\n",
    "                          \"Topic\": model.topics_})\n",
    "```\n",
    "\n",
    "Note that this `documents` is a subset for that topic which is the same as `selection` in the code block below."
   ]
  },
  {
   "cell_type": "code",
   "execution_count": 50,
   "metadata": {},
   "outputs": [],
   "source": [
    "def topics_over_time_mod():\n",
    "  # For each unique timestamp, create topic representations\n",
    "  topics_over_time = []\n",
    "  for index, timestamp in enumerate(tqdm(ts_unique)):\n",
    "    #print(index, timestamp)\n",
    "    # Calculate c-TF-IDF representation for a specific timestamp\n",
    "    selection = documents.loc[documents.Timestamps == timestamp, :]\n",
    "    \n",
    "    docs_per_toc = selection.groupby(['Topic'], as_index=False).agg(\n",
    "                                  {'Document': ' '.join, \"Timestamps\": \"count\"})\n",
    "    c_tf_idf, words = topic_model._c_tf_idf(docs_per_toc, fit=False)\n",
    "    if global_tuning or evolution_tuning:\n",
    "      c_tf_idf = normalize(c_tf_idf, axis=1, norm='l1', copy=False)\n",
    "\n",
    "    # Fine-tune the c-TF-IDF matrix at timestamp t by averaging it with the \n",
    "    # c-TF-IDF matrix at timestamp t-1\n",
    "    if evolution_tuning and index != 0:\n",
    "      curr_toc         = sorted(list(docs_per_toc.Topic.values))\n",
    "      overlap_toc      = sorted(list(set(prev_toc).intersection(set(curr_toc))))\n",
    "      curr_overlap_idx = [curr_toc.index(topic) for topic in overlap_toc]\n",
    "      prev_overlap_idx = [prev_toc.index(topic) for topic in overlap_toc]\n",
    "\n",
    "      c_tf_idf.tolil()[curr_overlap_idx] = \\\n",
    "        ((c_tf_idf[curr_overlap_idx] + prev_c_tf_idf[prev_overlap_idx]) / 2.0).tolil()\n",
    "\n",
    "    # Fine-tune the timestamp c-TF-IDF representation based on the global c-TF-IDF representation\n",
    "    # by simply taking the average of the two\n",
    "    #if global_tuning:\n",
    "    #  selected_topics = [all_topics_indices[topic] \\\n",
    "    #                                      for topic in docs_per_toc.Topic.values]\n",
    "    #  c_tf_idf = (global_c_tf_idf[selected_topics] + c_tf_idf) / 2.0\n",
    "\n",
    "    # Extract the words per topic\n",
    "    words_per_toc = topic_model._extract_words_per_topic(words, \n",
    "                                                        c_tf_idf=c_tf_idf, \n",
    "                                                        documents=selection)\n",
    "    topic_frequency = pd.Series(docs_per_toc.Timestamps.values,\n",
    "                                  index=docs_per_toc.Topic).to_dict()\n",
    "    # Fill dataframe with results\n",
    "    topics_at_timestamp = [(topic,\n",
    "                            \", \".join([words[0] for words in values][:5]),\n",
    "                            topic_frequency[topic],\n",
    "                            timestamp) for topic, values in words_per_toc.items()]\n",
    "    topics_over_time.extend(topics_at_timestamp)\n",
    "\n",
    "    if evolution_tuning:\n",
    "      prev_toc = sorted(list(docs_per_toc.Topic.values))\n",
    "      prev_c_tf_idf = c_tf_idf.copy()\n",
    "\n",
    "    # Save the word list if this is the 1st timestamp\n",
    "    if index == 0:\n",
    "      word_file = ctfidf_dir / f\"word_list_{len(words)}.pickle\"\n",
    "      with open(word_file, 'wb') as f:\n",
    "        pickle.dump(words, f)\n",
    "\n",
    "    # Save the ctfidf values\n",
    "    ctfidf_file = ctfidf_dir / f'ctfidf_{index}_no_globatune.pickle'\n",
    "    with open(ctfidf_file, \"wb\") as f:\n",
    "      pickle.dump(c_tf_idf, f)\n",
    "\n",
    "    # Save index and topic name for cross-referencing in ctfidf_file\n",
    "    toc_index_file = ctfidf_dir / f\"ctfidf_{index}_toc_index.tsv\"\n",
    "    docs_per_toc['Topic'].to_csv(toc_index_file, sep='\\t')\n",
    "  \n",
    "  return topics_over_time\n"
   ]
  },
  {
   "cell_type": "code",
   "execution_count": 51,
   "metadata": {},
   "outputs": [
    {
     "name": "stdout",
     "output_type": "stream",
     "text": [
      "  generate topics_over_time\n"
     ]
    },
    {
     "name": "stderr",
     "output_type": "stream",
     "text": [
      "100%|██████████| 20/20 [05:30<00:00, 16.53s/it]\n"
     ]
    },
    {
     "data": {
      "text/html": [
       "<div>\n",
       "<style scoped>\n",
       "    .dataframe tbody tr th:only-of-type {\n",
       "        vertical-align: middle;\n",
       "    }\n",
       "\n",
       "    .dataframe tbody tr th {\n",
       "        vertical-align: top;\n",
       "    }\n",
       "\n",
       "    .dataframe thead th {\n",
       "        text-align: right;\n",
       "    }\n",
       "</style>\n",
       "<table border=\"1\" class=\"dataframe\">\n",
       "  <thead>\n",
       "    <tr style=\"text-align: right;\">\n",
       "      <th></th>\n",
       "      <th>Topic</th>\n",
       "      <th>Words</th>\n",
       "      <th>Frequency</th>\n",
       "      <th>Timestamp</th>\n",
       "    </tr>\n",
       "  </thead>\n",
       "  <tbody>\n",
       "    <tr>\n",
       "      <th>0</th>\n",
       "      <td>-1</td>\n",
       "      <td>gene, protein, arabidopsis, genes, sequence</td>\n",
       "      <td>253</td>\n",
       "      <td>903067199.0</td>\n",
       "    </tr>\n",
       "    <tr>\n",
       "      <th>1</th>\n",
       "      <td>1</td>\n",
       "      <td>calmodulin, domain, pldgamma, kinesin heavy, cld</td>\n",
       "      <td>16</td>\n",
       "      <td>903067199.0</td>\n",
       "    </tr>\n",
       "    <tr>\n",
       "      <th>2</th>\n",
       "      <td>2</td>\n",
       "      <td>ubiquitin, cop9, e2s, proteins, fus6</td>\n",
       "      <td>24</td>\n",
       "      <td>903067199.0</td>\n",
       "    </tr>\n",
       "    <tr>\n",
       "      <th>3</th>\n",
       "      <td>3</td>\n",
       "      <td>spaceflight, space, flight, seeds, plants</td>\n",
       "      <td>30</td>\n",
       "      <td>903067199.0</td>\n",
       "    </tr>\n",
       "    <tr>\n",
       "      <th>4</th>\n",
       "      <td>4</td>\n",
       "      <td>promoter, gus, gene, expression, region</td>\n",
       "      <td>193</td>\n",
       "      <td>903067199.0</td>\n",
       "    </tr>\n",
       "  </tbody>\n",
       "</table>\n",
       "</div>"
      ],
      "text/plain": [
       "   Topic                                             Words  Frequency  \\\n",
       "0     -1       gene, protein, arabidopsis, genes, sequence        253   \n",
       "1      1  calmodulin, domain, pldgamma, kinesin heavy, cld         16   \n",
       "2      2              ubiquitin, cop9, e2s, proteins, fus6         24   \n",
       "3      3         spaceflight, space, flight, seeds, plants         30   \n",
       "4      4           promoter, gus, gene, expression, region        193   \n",
       "\n",
       "     Timestamp  \n",
       "0  903067199.0  \n",
       "1  903067199.0  \n",
       "2  903067199.0  \n",
       "3  903067199.0  \n",
       "4  903067199.0  "
      ]
     },
     "execution_count": 51,
     "metadata": {},
     "output_type": "execute_result"
    }
   ],
   "source": [
    "tot_df_file = work_dir / \\\n",
    "                f\"table_topics_over_time_df_no_global_tune_{target}.tsv\"\n",
    "\n",
    "if tot_df_file.is_file():\n",
    "  print(\"  load topics_over_time\")\n",
    "  topics_over_time = pd.read_csv(tot_df_file, sep='\\t')\n",
    "else:\n",
    "  print(\"  generate topics_over_time\")\n",
    "  topics_over_time = topics_over_time_mod()\n",
    "  topics_over_time = pd.DataFrame(topics_over_time, \n",
    "                          columns=[\"Topic\", \"Words\", \"Frequency\", \"Timestamp\"])\n",
    "\n",
    "  topics_over_time.to_csv(tot_df_file, sep='\\t')\n",
    "\n",
    "topics_over_time.head()"
   ]
  },
  {
   "cell_type": "markdown",
   "metadata": {},
   "source": [
    "### Topic over time plot\n",
    "\n",
    "Customize [BERTopic/bertopic/plotting/_topics_over_time.py](https://github.com/MaartenGr/BERTopic/blob/master/bertopic/plotting/_topics_over_time.py):\n",
    "\n",
    "09/12/23\n",
    "- Current bertopic versoin is 0.15.0.\n",
    "- Was working with BERTopic version is 0.12.0, different from what I started with 0.9.4.\n",
    "- The function to modify is `visualize_topics_over_time`."
   ]
  },
  {
   "cell_type": "code",
   "execution_count": 52,
   "metadata": {},
   "outputs": [],
   "source": [
    "def visualize_tot_mod(topic_model, topics_over_time, topics=None, \n",
    "                      normalize_frequency=False, width=1000, height=400):\n",
    "\n",
    "  colors = [\"#56B4E9\", \"#E69F00\", \"#009E73\", \"#F0E442\", \"#D55E00\", \"#0072B2\", \n",
    "            \"#CC79A7\"]\n",
    "\n",
    "  # Select topics\n",
    "  if topics:\n",
    "    selected_topics = topics\n",
    "  else:\n",
    "    selected_topics = topic_model.get_topic_freq().Topic.values\n",
    "\n",
    "  # Prepare data\n",
    "  # topic_model.topic_names is now topic_model.topic_labels_\n",
    "  topic_names = {key: value[:40] + \"...\" if len(value) > 40 else value\n",
    "                       for key, value in topic_model.topic_labels_.items()}\n",
    "\n",
    "  topics_over_time[\"Name\"] = topics_over_time.Topic.map(topic_names)\n",
    "  data = topics_over_time.loc[\n",
    "    topics_over_time.Topic.isin(selected_topics), :].sort_values(\n",
    "        [\"Topic\", \"Timestamp\"])\n",
    "    \n",
    "  # Add traces\n",
    "  fig = go.Figure()\n",
    "  max_freq = 0  # set max frequency for plotting purpose\n",
    "  for index, topic in enumerate(data.Topic.unique()):\n",
    "    trace_data = data.loc[data.Topic == topic, :]\n",
    "    topic_name = trace_data.Name.values[0]\n",
    "    words = trace_data.Words.values\n",
    "    if normalize_frequency:\n",
    "      y = normalize(trace_data.Frequency.values.reshape(1, -1))[0]\n",
    "    else:\n",
    "      y = trace_data.Frequency\n",
    "\n",
    "    if max(y) > max_freq:\n",
    "      max_freq = max(y)\n",
    "    fig.add_trace(go.Scatter(x=trace_data.Timestamp, y=y, mode='lines+markers',\n",
    "      marker_color=colors[index % 7], hoverinfo=\"text\",\n",
    "      name=topic_name,\n",
    "      hovertext=[f'<b>Topic {topic}</b><br>Words: {word}' for word in words]))\n",
    "\n",
    "  # Set the xaxis values, just use topic=0 \n",
    "  unique_tss = data.loc[data.Topic == selected_topics[0], :].Timestamp.tolist()\n",
    "  datetimes  = [datetime.fromtimestamp(ts) for ts in unique_tss]\n",
    "  ymds       = [f'{dt.year}-{dt.month}-{dt.day}' for dt in datetimes]\n",
    "  \n",
    "  # At recent date it becomes too dense, so only show every 2 dates\n",
    "  skip_after = datetime(2011, 1, 1).timestamp()\n",
    "  skip_start_idx = bisect(unique_tss, skip_after)\n",
    "  unique_tss2 = unique_tss[:skip_start_idx] + unique_tss[skip_start_idx::2]\n",
    "  ymds2       = ymds[:skip_start_idx] + ymds[skip_start_idx::2]\n",
    "\n",
    "  # Styling of the visualization\n",
    "  #toc_str    = \"-\".join([str(toc) for toc in topics])\n",
    "  toc_str = topic_names[topics[0]]\n",
    "\n",
    "  fig.update_xaxes(showgrid=True)\n",
    "  fig.update_yaxes(showgrid=True)\n",
    "  fig.update_layout(\n",
    "    yaxis_title=\"Normalized Frequency\" if normalize_frequency else \"Frequency\",\n",
    "    title={'text': f\"<b>Topic(s): {toc_str}\",\n",
    "           'y': .95,\n",
    "           'x': 0.40,\n",
    "           'xanchor': 'center',\n",
    "           'yanchor': 'top',\n",
    "           'font': dict(size=22, color=\"Black\")},\n",
    "    template=\"simple_white\",\n",
    "    width=width,\n",
    "    height=height,\n",
    "    hoverlabel=dict(bgcolor=\"white\", font_size=16, font_family=\"Rockwell\"),\n",
    "    legend=dict(title=\"<b>Global Topic Representation\"),\n",
    "    xaxis=dict(tickmode='array', tickvals=unique_tss2, ticktext=ymds2,\n",
    "               tickangle=-60))\n",
    "\n",
    "  # Add decade lines\n",
    "  for decade in range(1980, 2020, 10):\n",
    "    dt = datetime(decade, 1, 1)\n",
    "    ts = datetime.timestamp(dt)\n",
    "    fig.add_shape(type=\"line\", x0=ts, y0=0, x1=ts, y1=max_freq*1.05,\n",
    "                  line=dict(color=\"red\", width=3, dash='dot'))\n",
    "\n",
    "  # Save figure\n",
    "  fig.write_html(tot_graph_dir / f'tot_graph_topic_{toc_str}_no_globaltune.html')\n",
    "  #fig.write_image(tot_graph_dir / f'tot_graph_topic_{toc_str}_no_globaltune.pdf')\n",
    "\n",
    "  return fig, unique_tss"
   ]
  },
  {
   "cell_type": "code",
   "execution_count": 55,
   "metadata": {},
   "outputs": [
    {
     "name": "stderr",
     "output_type": "stream",
     "text": [
      "100%|██████████| 62/62 [00:03<00:00, 17.05it/s]\n"
     ]
    }
   ],
   "source": [
    "# Get the topics\n",
    "topics = np.unique(topics_over_time['Topic'].values)\n",
    "\n",
    "# Go through all topics\n",
    "for topic in tqdm(topics):\n",
    "  visualize_tot_mod(topic_model, topics_over_time, topics=[topic])"
   ]
  },
  {
   "cell_type": "markdown",
   "metadata": {},
   "source": [
    "### Save topic over time dataframe and turn it into a topic-timestamp-freq table\n",
    "\n",
    "Code from script_4_4c"
   ]
  },
  {
   "cell_type": "code",
   "execution_count": 56,
   "metadata": {},
   "outputs": [],
   "source": [
    "tot_df_file = work_dir / \"table_topics_over_time_df_no_global_tune.tsv\"\n",
    "topics_over_time.to_csv(tot_df_file)"
   ]
  },
  {
   "cell_type": "code",
   "execution_count": 57,
   "metadata": {},
   "outputs": [
    {
     "data": {
      "text/plain": [
       "(1229, 5)"
      ]
     },
     "execution_count": 57,
     "metadata": {},
     "output_type": "execute_result"
    }
   ],
   "source": [
    "topics_over_time.shape"
   ]
  },
  {
   "cell_type": "code",
   "execution_count": 58,
   "metadata": {},
   "outputs": [
    {
     "data": {
      "text/html": [
       "<div>\n",
       "<style scoped>\n",
       "    .dataframe tbody tr th:only-of-type {\n",
       "        vertical-align: middle;\n",
       "    }\n",
       "\n",
       "    .dataframe tbody tr th {\n",
       "        vertical-align: top;\n",
       "    }\n",
       "\n",
       "    .dataframe thead th {\n",
       "        text-align: right;\n",
       "    }\n",
       "</style>\n",
       "<table border=\"1\" class=\"dataframe\">\n",
       "  <thead>\n",
       "    <tr style=\"text-align: right;\">\n",
       "      <th></th>\n",
       "      <th>9.030672e+08</th>\n",
       "      <th>1.006405e+09</th>\n",
       "      <th>1.071551e+09</th>\n",
       "      <th>1.124942e+09</th>\n",
       "      <th>1.170824e+09</th>\n",
       "      <th>1.212034e+09</th>\n",
       "      <th>1.251778e+09</th>\n",
       "      <th>1.287634e+09</th>\n",
       "      <th>1.317960e+09</th>\n",
       "      <th>1.348805e+09</th>\n",
       "      <th>1.376539e+09</th>\n",
       "      <th>1.402373e+09</th>\n",
       "      <th>1.429416e+09</th>\n",
       "      <th>1.456463e+09</th>\n",
       "      <th>1.483074e+09</th>\n",
       "      <th>1.509509e+09</th>\n",
       "      <th>1.536034e+09</th>\n",
       "      <th>1.561176e+09</th>\n",
       "      <th>1.585714e+09</th>\n",
       "      <th>1.609477e+09</th>\n",
       "    </tr>\n",
       "    <tr>\n",
       "      <th>Topic</th>\n",
       "      <th></th>\n",
       "      <th></th>\n",
       "      <th></th>\n",
       "      <th></th>\n",
       "      <th></th>\n",
       "      <th></th>\n",
       "      <th></th>\n",
       "      <th></th>\n",
       "      <th></th>\n",
       "      <th></th>\n",
       "      <th></th>\n",
       "      <th></th>\n",
       "      <th></th>\n",
       "      <th></th>\n",
       "      <th></th>\n",
       "      <th></th>\n",
       "      <th></th>\n",
       "      <th></th>\n",
       "      <th></th>\n",
       "      <th></th>\n",
       "    </tr>\n",
       "  </thead>\n",
       "  <tbody>\n",
       "    <tr>\n",
       "      <th>-1</th>\n",
       "      <td>253.0</td>\n",
       "      <td>262.0</td>\n",
       "      <td>231.0</td>\n",
       "      <td>233</td>\n",
       "      <td>246</td>\n",
       "      <td>233.0</td>\n",
       "      <td>214.0</td>\n",
       "      <td>238</td>\n",
       "      <td>241</td>\n",
       "      <td>198.0</td>\n",
       "      <td>195</td>\n",
       "      <td>217</td>\n",
       "      <td>204</td>\n",
       "      <td>187</td>\n",
       "      <td>214</td>\n",
       "      <td>207</td>\n",
       "      <td>231</td>\n",
       "      <td>214</td>\n",
       "      <td>168</td>\n",
       "      <td>197</td>\n",
       "    </tr>\n",
       "    <tr>\n",
       "      <th>0</th>\n",
       "      <td>0.0</td>\n",
       "      <td>2.0</td>\n",
       "      <td>4.0</td>\n",
       "      <td>11</td>\n",
       "      <td>12</td>\n",
       "      <td>8.0</td>\n",
       "      <td>10.0</td>\n",
       "      <td>6</td>\n",
       "      <td>4</td>\n",
       "      <td>8.0</td>\n",
       "      <td>9</td>\n",
       "      <td>18</td>\n",
       "      <td>11</td>\n",
       "      <td>11</td>\n",
       "      <td>5</td>\n",
       "      <td>13</td>\n",
       "      <td>7</td>\n",
       "      <td>5</td>\n",
       "      <td>9</td>\n",
       "      <td>8</td>\n",
       "    </tr>\n",
       "    <tr>\n",
       "      <th>1</th>\n",
       "      <td>16.0</td>\n",
       "      <td>23.0</td>\n",
       "      <td>20.0</td>\n",
       "      <td>21</td>\n",
       "      <td>17</td>\n",
       "      <td>14.0</td>\n",
       "      <td>18.0</td>\n",
       "      <td>15</td>\n",
       "      <td>26</td>\n",
       "      <td>17.0</td>\n",
       "      <td>20</td>\n",
       "      <td>13</td>\n",
       "      <td>14</td>\n",
       "      <td>13</td>\n",
       "      <td>19</td>\n",
       "      <td>13</td>\n",
       "      <td>16</td>\n",
       "      <td>10</td>\n",
       "      <td>15</td>\n",
       "      <td>5</td>\n",
       "    </tr>\n",
       "    <tr>\n",
       "      <th>2</th>\n",
       "      <td>24.0</td>\n",
       "      <td>29.0</td>\n",
       "      <td>23.0</td>\n",
       "      <td>29</td>\n",
       "      <td>17</td>\n",
       "      <td>22.0</td>\n",
       "      <td>28.0</td>\n",
       "      <td>28</td>\n",
       "      <td>19</td>\n",
       "      <td>22.0</td>\n",
       "      <td>26</td>\n",
       "      <td>21</td>\n",
       "      <td>15</td>\n",
       "      <td>22</td>\n",
       "      <td>31</td>\n",
       "      <td>22</td>\n",
       "      <td>23</td>\n",
       "      <td>15</td>\n",
       "      <td>18</td>\n",
       "      <td>21</td>\n",
       "    </tr>\n",
       "    <tr>\n",
       "      <th>3</th>\n",
       "      <td>30.0</td>\n",
       "      <td>22.0</td>\n",
       "      <td>7.0</td>\n",
       "      <td>9</td>\n",
       "      <td>4</td>\n",
       "      <td>2.0</td>\n",
       "      <td>8.0</td>\n",
       "      <td>3</td>\n",
       "      <td>7</td>\n",
       "      <td>4.0</td>\n",
       "      <td>7</td>\n",
       "      <td>5</td>\n",
       "      <td>9</td>\n",
       "      <td>5</td>\n",
       "      <td>4</td>\n",
       "      <td>9</td>\n",
       "      <td>8</td>\n",
       "      <td>7</td>\n",
       "      <td>4</td>\n",
       "      <td>7</td>\n",
       "    </tr>\n",
       "  </tbody>\n",
       "</table>\n",
       "</div>"
      ],
      "text/plain": [
       "       9.030672e+08  1.006405e+09  1.071551e+09  1.124942e+09  1.170824e+09  \\\n",
       "Topic                                                                         \n",
       "-1            253.0         262.0         231.0           233           246   \n",
       " 0              0.0           2.0           4.0            11            12   \n",
       " 1             16.0          23.0          20.0            21            17   \n",
       " 2             24.0          29.0          23.0            29            17   \n",
       " 3             30.0          22.0           7.0             9             4   \n",
       "\n",
       "       1.212034e+09  1.251778e+09  1.287634e+09  1.317960e+09  1.348805e+09  \\\n",
       "Topic                                                                         \n",
       "-1            233.0         214.0           238           241         198.0   \n",
       " 0              8.0          10.0             6             4           8.0   \n",
       " 1             14.0          18.0            15            26          17.0   \n",
       " 2             22.0          28.0            28            19          22.0   \n",
       " 3              2.0           8.0             3             7           4.0   \n",
       "\n",
       "       1.376539e+09  1.402373e+09  1.429416e+09  1.456463e+09  1.483074e+09  \\\n",
       "Topic                                                                         \n",
       "-1              195           217           204           187           214   \n",
       " 0                9            18            11            11             5   \n",
       " 1               20            13            14            13            19   \n",
       " 2               26            21            15            22            31   \n",
       " 3                7             5             9             5             4   \n",
       "\n",
       "       1.509509e+09  1.536034e+09  1.561176e+09  1.585714e+09  1.609477e+09  \n",
       "Topic                                                                        \n",
       "-1              207           231           214           168           197  \n",
       " 0               13             7             5             9             8  \n",
       " 1               13            16            10            15             5  \n",
       " 2               22            23            15            18            21  \n",
       " 3                9             8             7             4             7  "
      ]
     },
     "execution_count": 58,
     "metadata": {},
     "output_type": "execute_result"
    }
   ],
   "source": [
    "# Turn the dataframe into top_freq_df with rows as timestamps, column as topics,\n",
    "# and values as frequency\n",
    "top_freq_dict = {} # {timestamp:{topic:freq}}\n",
    "for idx in topics_over_time.index:\n",
    "  row  = topics_over_time.loc[idx]\n",
    "  ts   = row[\"Timestamp\"]\n",
    "  toc  = row[\"Topic\"]\n",
    "  freq = row[\"Frequency\"]\n",
    "  if ts not in top_freq_dict:\n",
    "    top_freq_dict[ts] = {toc:freq}\n",
    "  elif toc not in top_freq_dict[ts]:\n",
    "    top_freq_dict[ts][toc] = freq\n",
    "  else:\n",
    "    print(\"ERR: redundant\", topic,freq)\n",
    "\n",
    "top_freq_df = pd.DataFrame.from_dict(top_freq_dict)\n",
    "top_freq_df.fillna(0, inplace=True)\n",
    "top_freq_df.sort_index(axis=0, inplace=True)  # sort rows\n",
    "top_freq_df.sort_index(axis=1, inplace=True)  # sort columns\n",
    "top_freq_df.index.name = \"Topic\"\n",
    "top_freq_df.head()"
   ]
  },
  {
   "cell_type": "code",
   "execution_count": 59,
   "metadata": {},
   "outputs": [],
   "source": [
    "top_freq_df_file = work_dir / \"table_toc_ts_freq_df.tsv\"\n",
    "top_freq_df.to_csv(top_freq_df_file)"
   ]
  },
  {
   "cell_type": "markdown",
   "metadata": {},
   "source": [
    "## ___Lowess fit___\n",
    "\n",
    "Move function from script_4_4d"
   ]
  },
  {
   "cell_type": "markdown",
   "metadata": {},
   "source": [
    "### Set get_lowess function"
   ]
  },
  {
   "cell_type": "code",
   "execution_count": 60,
   "metadata": {},
   "outputs": [],
   "source": [
    "def get_lowess(toc, x, y, frac, it=3, dir_lowess=\"dir_lowess\", plot=0):\n",
    "\n",
    "  lowess = sm.nonparametric.lowess\n",
    "  lowess_fit = lowess(y, x, frac=frac, it=it) \n",
    "  lowess_x   = list(zip(*lowess_fit))[0]\n",
    "  lowess_y   = list(zip(*lowess_fit))[1]\n",
    "\n",
    "  # create a function using the interp1d method\n",
    "  lowesss_f  = interp1d(lowess_x, lowess_y, bounds_error=False)\n",
    "\n",
    "  # save the function\n",
    "  f_file = dir_lowess / f\"lowess_fit_func_topic{toc}_frac{frac}.pickle\"\n",
    "  with open(f_file, \"wb\") as f:\n",
    "    pickle.dump(lowesss_f, f)\n",
    "\n",
    "  #x_line = [i/10. for i in range(400)]\n",
    "  # define a sequence of inputs between the smallest and largest known inputs\n",
    "  x_line = np.arange(min(x), max(x), (max(x)-min(x))/100)\n",
    "  y_line = lowesss_f(x_line)\n",
    "\n",
    "  # For xtick labels\n",
    "  x_date = [datetime.fromtimestamp(ts+1).strftime('%Y-%m-%d') for ts in lowess_x]\n",
    "\n",
    "  # Create series\n",
    "  lowess_ser = pd.Series(lowess_y, index=lowess_x, name=toc)\n",
    "\n",
    "  if plot:\n",
    "    # get 2 decimal points for mse\n",
    "    mse = \"{:.2f}\".format(mean_squared_error(y, lowess_y))\n",
    "    plt.title(f\"topic {toc}, MSE={mse}\")\n",
    "    plt.plot(x, y, 'o')\n",
    "    #plt.plot(lowess_x, lowess_y, '*')\n",
    "    plt.plot(lowess_x, lowess_y, '*')\n",
    "    #plt.plot(x_new, y_new, '-')\n",
    "    plt.plot(x_line, y_line, '-')\n",
    "\n",
    "    #https://stackabuse.com/rotate-axis-labels-in-matplotlib/\n",
    "    plt.xticks(ticks=lowess_x, labels=x_date, rotation=90, fontsize=4)\n",
    "    plt.xlabel(\"Date\")\n",
    "    plt.ylabel(\"Frequency\")\n",
    "    plt.ylim([0, max([max(y), max(lowess_y)])])\n",
    "    plt.tight_layout()\n",
    "    plt.savefig(dir_lowess / \\\n",
    "                            f'figure_topic_{toc}_lowess_frac{frac}.pdf')\n",
    "    plt.close()\n",
    "    \n",
    "  return lowess_ser "
   ]
  },
  {
   "cell_type": "markdown",
   "metadata": {},
   "source": [
    "### Iterate through topics"
   ]
  },
  {
   "cell_type": "code",
   "execution_count": 61,
   "metadata": {},
   "outputs": [
    {
     "name": "stdout",
     "output_type": "stream",
     "text": [
      "[-1, 0, 1, 2, 3, 4, 5, 6, 7, 8, 9, 10, 11, 12, 13, 14, 15, 16, 17, 18, 19, 20, 21, 22, 23, 24, 25, 26, 27, 28, 29, 30, 31, 32, 33, 34, 35, 36, 37, 38, 39, 40, 41, 42, 43, 44, 45, 46, 47, 48, 49, 50, 51, 52, 53, 54, 55, 56, 57, 58, 59, 60]\n"
     ]
    }
   ],
   "source": [
    "# get topics from top_freq_df\n",
    "topics = top_freq_df.index.tolist()\n",
    "print(topics)"
   ]
  },
  {
   "cell_type": "code",
   "execution_count": 62,
   "metadata": {},
   "outputs": [],
   "source": [
    "def fit_topics(frac, it):\n",
    "  '''Lowess fit each topic and save the outputs\n",
    "  Args:\n",
    "    frac (float): The fraction of the data used when estimating each y-value.\n",
    "    it (int): The number of residual-based reweightings to perform.\n",
    "  Output:\n",
    "    \n",
    "  '''\n",
    "\n",
    "  # Create a subfolder for the specific frac\n",
    "  # Decide not to use this, so I can compare each fit side by side\n",
    "  #dir_lowess_frac = dir_lowess / f\"_{frac}\"\n",
    "  #dir_lowess_frac.mkdir(parents=True, exist_ok=True)\n",
    "\n",
    "  max_y_idxs      = [] # indices (x, timestamps) with max y\n",
    "  lowess_ser_list = [] # list of lowess-fitted series for different topics\n",
    "  for toc in tqdm(topics):\n",
    "    # series for the topic, timestamps as indices, frequencies as row\n",
    "    toc_series = top_freq_df.loc[toc]\n",
    "    x          = [float(ts) for ts in toc_series.index]  # timestamps\n",
    "    y          = toc_series.values # frequencies\n",
    "\n",
    "    # series after lowess smoothing\n",
    "    lowess_ser = get_lowess(toc, x, y, frac, it, dir_lowess, plot=1)\n",
    "\n",
    "    max_y_idx  = lowess_ser.idxmax()\n",
    "    max_y_idxs.append(max_y_idx)\n",
    "    lowess_ser_list.append(lowess_ser)\n",
    "\n",
    "  # for topic order\n",
    "  max_y_idxs_ser = pd.Series(max_y_idxs, index=topics, name='max_y_timestamp')\n",
    "  max_y_idxs_ser.to_csv(dir_lowess / \\\n",
    "          f\"table_1_arabidopsis_timestamps_with_max_y_lowess_frac{frac}.txt\")\n",
    "  \n",
    "  # Create a dataframe with lowess fits\n",
    "  #https://sparkbyexamples.com/pandas/pandas-create-dataframe-from-multiple-series/\n",
    "  lowess_df = pd.concat(lowess_ser_list, axis=1).transpose()\n",
    "\n",
    "  # Sort the dataframe based on timestamps\n",
    "  #https://www.geeksforgeeks.org/how-to-sort-a-pandas-dataframe-based-on-column-names-or-row-index/\n",
    "  lowess_df.sort_index(inplace=True, axis=1)\n",
    "\n",
    "  # Save the dataframe to file\n",
    "  lowess_df.to_csv(dir_lowess / \\\n",
    "          f\"table_1_arabidopsis_toc_timestamps_lowess_vals_{frac}.txt\")\n",
    "\n",
    "  return max_y_idxs_ser, lowess_df"
   ]
  },
  {
   "cell_type": "code",
   "execution_count": 63,
   "metadata": {},
   "outputs": [
    {
     "name": "stderr",
     "output_type": "stream",
     "text": [
      "100%|██████████| 62/62 [00:18<00:00,  3.31it/s]\n"
     ]
    }
   ],
   "source": [
    "# 0.1 is pretty useless\n",
    "max_y_idxs_ser01, lowess_df01 = fit_topics(0.1, 3)"
   ]
  },
  {
   "cell_type": "code",
   "execution_count": 64,
   "metadata": {},
   "outputs": [
    {
     "name": "stderr",
     "output_type": "stream",
     "text": [
      "100%|██████████| 62/62 [00:18<00:00,  3.38it/s]\n"
     ]
    }
   ],
   "source": [
    "max_y_idxs_ser02, lowess_df02 = fit_topics(0.2, 3)"
   ]
  },
  {
   "cell_type": "code",
   "execution_count": 65,
   "metadata": {},
   "outputs": [
    {
     "name": "stderr",
     "output_type": "stream",
     "text": [
      "100%|██████████| 62/62 [00:18<00:00,  3.36it/s]\n"
     ]
    }
   ],
   "source": [
    "max_y_idxs_ser03, lowess_df03 = fit_topics(0.3, 3)"
   ]
  },
  {
   "cell_type": "markdown",
   "metadata": {},
   "source": [
    "### Get toc frequency sum and max"
   ]
  },
  {
   "cell_type": "code",
   "execution_count": 66,
   "metadata": {},
   "outputs": [
    {
     "data": {
      "text/plain": [
       "(4383.0, 262.0)"
      ]
     },
     "execution_count": 66,
     "metadata": {},
     "output_type": "execute_result"
    }
   ],
   "source": [
    "# determine total and max freq for each topic\n",
    "toc_freq_sum = top_freq_df.sum(axis=1)\n",
    "toc_freq_max = top_freq_df.max(axis=1)\n",
    "toc_freq_sum.loc[-1], toc_freq_max.loc[-1]"
   ]
  },
  {
   "cell_type": "code",
   "execution_count": 67,
   "metadata": {},
   "outputs": [
    {
     "data": {
      "text/html": [
       "<div>\n",
       "<style scoped>\n",
       "    .dataframe tbody tr th:only-of-type {\n",
       "        vertical-align: middle;\n",
       "    }\n",
       "\n",
       "    .dataframe tbody tr th {\n",
       "        vertical-align: top;\n",
       "    }\n",
       "\n",
       "    .dataframe thead th {\n",
       "        text-align: right;\n",
       "    }\n",
       "</style>\n",
       "<table border=\"1\" class=\"dataframe\">\n",
       "  <thead>\n",
       "    <tr style=\"text-align: right;\">\n",
       "      <th></th>\n",
       "      <th>Sum</th>\n",
       "      <th>Max</th>\n",
       "    </tr>\n",
       "    <tr>\n",
       "      <th>Topic</th>\n",
       "      <th></th>\n",
       "      <th></th>\n",
       "    </tr>\n",
       "  </thead>\n",
       "  <tbody>\n",
       "    <tr>\n",
       "      <th>-1</th>\n",
       "      <td>4383.0</td>\n",
       "      <td>262.0</td>\n",
       "    </tr>\n",
       "    <tr>\n",
       "      <th>0</th>\n",
       "      <td>161.0</td>\n",
       "      <td>18.0</td>\n",
       "    </tr>\n",
       "    <tr>\n",
       "      <th>1</th>\n",
       "      <td>325.0</td>\n",
       "      <td>26.0</td>\n",
       "    </tr>\n",
       "    <tr>\n",
       "      <th>2</th>\n",
       "      <td>455.0</td>\n",
       "      <td>31.0</td>\n",
       "    </tr>\n",
       "    <tr>\n",
       "      <th>3</th>\n",
       "      <td>161.0</td>\n",
       "      <td>30.0</td>\n",
       "    </tr>\n",
       "  </tbody>\n",
       "</table>\n",
       "</div>"
      ],
      "text/plain": [
       "          Sum    Max\n",
       "Topic               \n",
       "-1     4383.0  262.0\n",
       " 0      161.0   18.0\n",
       " 1      325.0   26.0\n",
       " 2      455.0   31.0\n",
       " 3      161.0   30.0"
      ]
     },
     "execution_count": 67,
     "metadata": {},
     "output_type": "execute_result"
    }
   ],
   "source": [
    "toc_freq_stat = pd.concat({'Sum':toc_freq_sum, 'Max':toc_freq_max}, axis=1)\n",
    "toc_freq_stat.head()"
   ]
  }
 ],
 "metadata": {
  "kernelspec": {
   "display_name": "Python 3.9.12 ('bertopic': conda)",
   "language": "python",
   "name": "python3"
  },
  "language_info": {
   "codemirror_mode": {
    "name": "ipython",
    "version": 3
   },
   "file_extension": ".py",
   "mimetype": "text/x-python",
   "name": "python",
   "nbconvert_exporter": "python",
   "pygments_lexer": "ipython3",
   "version": "3.11.5"
  },
  "orig_nbformat": 4,
  "vscode": {
   "interpreter": {
    "hash": "f2e4e20fc18a85a340f79bd4194edb89aa809195ae81b8baa70bd7972a2a12f7"
   }
  }
 },
 "nbformat": 4,
 "nbformat_minor": 2
}
